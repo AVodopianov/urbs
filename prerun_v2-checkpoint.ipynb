{
 "cells": [
  {
   "cell_type": "code",
   "execution_count": 2,
   "metadata": {
    "collapsed": false
   },
   "outputs": [],
   "source": [
    "%matplotlib inline\n",
    "import os\n",
    "import math\n",
    "import matplotlib.pyplot as plt\n",
    "import pandas as pd\n",
    "import pyomo.environ\n",
    "import pyomo.core as pyomo\n",
    "import shutil\n",
    "import xlrd\n",
    "from xlrd import XLRDError\n",
    "from datetime import datetime"
   ]
  },
  {
   "cell_type": "code",
   "execution_count": 3,
   "metadata": {
    "collapsed": false
   },
   "outputs": [
    {
     "name": "stdout",
     "output_type": "stream",
     "text": [
      "Type in the name of your Excel-Datasheet (i.e. mimo-example.xlsx): CTC_TB.xlsx\n"
     ]
    }
   ],
   "source": [
    "def split_columns(columns, sep='.'):\n",
    "    \"\"\"Split columns by separator into MultiIndex.\n",
    "\n",
    "    Given a list of column labels containing a separator string (default: '.'),\n",
    "    derive a MulitIndex that is split at the separator string.\n",
    "\n",
    "    Args:\n",
    "        columns: list of column labels, containing the separator string\n",
    "        sep: the separator string (default: '.')\n",
    "\n",
    "    Returns:\n",
    "        a MultiIndex corresponding to input, with levels split at separator\n",
    "\n",
    "    Example:\n",
    "        >>> split_columns(['DE.Elec', 'MA.Elec', 'NO.Wind'])\n",
    "        MultiIndex(levels=[['DE', 'MA', 'NO'], ['Elec', 'Wind']],\n",
    "                   labels=[[0, 1, 2], [0, 0, 1]])\n",
    "\n",
    "    \"\"\"\n",
    "    if len(columns) == 0:\n",
    "        return columns\n",
    "    column_tuples = [tuple(col.split('.')) for col in columns]\n",
    "    return pd.MultiIndex.from_tuples(column_tuples)\n",
    "\n",
    "input_file = input(\"Type in the name of your Excel-Datasheet (i.e. mimo-example.xlsx): \")\n",
    "\n",
    "with pd.ExcelFile(input_file) as xls:\n",
    "    site = xls.parse('Site').set_index(['Name'])\n",
    "    commodity = (\n",
    "        xls.parse('Commodity').set_index(['Site', 'Commodity']))\n",
    "    process = xls.parse('Process').set_index(['Site', 'Process'])\n",
    "    process_commodity = (\n",
    "        xls.parse('Process-Commodity')\n",
    "           .set_index(['Process', 'Commodity', 'Direction']))\n",
    "    transmission = (\n",
    "        xls.parse('Transmission')\n",
    "           .set_index(['Site In', 'Site Out',\n",
    "                       'Transmission', 'Commodity']))\n",
    "    storage = (\n",
    "        xls.parse('Storage').set_index(['Site', 'Storage', 'Commodity']))\n",
    "    demand = xls.parse('Demand').set_index(['t'])\n",
    "    supim = xls.parse('SupIm').set_index(['t'])\n",
    "    buy_sell_price = xls.parse('Buy-Sell-Price').set_index(['t'])\n",
    "    dsm = xls.parse('DSM').set_index(['Site', 'Commodity'])\n",
    "    try:\n",
    "        hacks = xls.parse('Hacks').set_index(['Name'])\n",
    "    except XLRDError:\n",
    "        hacks = None\n",
    "\n",
    "# prepare input data\n",
    "# split columns by dots '.', so that 'DE.Elec' becomes the two-level\n",
    "# column index ('DE', 'Elec')\n",
    "demand.columns = split_columns(demand.columns, '.')\n",
    "supim.columns = split_columns(supim.columns, '.')\n",
    "buy_sell_price.columns = split_columns(buy_sell_price.columns, '.')\n",
    "\n",
    "data = {\n",
    "    'site': site,\n",
    "    'commodity': commodity,\n",
    "    'process': process,\n",
    "    'process_commodity': process_commodity,\n",
    "    'transmission': transmission,\n",
    "    'storage': storage,\n",
    "    'demand': demand,\n",
    "    'supim': supim,\n",
    "    'buy_sell_price': buy_sell_price,\n",
    "    'dsm': dsm}\n",
    "if hacks is not None:\n",
    "    data['hacks'] = hacks\n",
    "\n",
    "# sort nested indexes to make direct assignments work\n",
    "for key in data:\n",
    "    if isinstance(data[key].index, pd.core.index.MultiIndex):\n",
    "        data[key].sortlevel(inplace=True)"
   ]
  },
  {
   "cell_type": "code",
   "execution_count": 4,
   "metadata": {
    "collapsed": false
   },
   "outputs": [],
   "source": [
    "# get used sites and \"main\" commoditys\n",
    "msites = list(demand.columns.levels[0])\n",
    "mcom = list(demand.columns.levels[1])"
   ]
  },
  {
   "cell_type": "code",
   "execution_count": 5,
   "metadata": {
    "collapsed": false
   },
   "outputs": [
    {
     "name": "stdout",
     "output_type": "stream",
     "text": [
      "Type in the process for evaluation(i.e. Wind park, Hydro plant):Gas Motor, Gas plant, Fuel Cell, Import(Elec), PVS30\n"
     ]
    }
   ],
   "source": [
    "# get required supim data\n",
    "msupim = supim[msites].sum().to_frame().rename(columns={0:'FLH'})\n",
    "\n",
    "# get required process data \n",
    "mpara = ['inv-cost', 'fix-cost', 'var-cost', 'wacc', 'depreciation']\n",
    "mprocess = process.loc[msites, mpara]\n",
    "\n",
    "# get commodity type - SupIm, Stock\n",
    "com_type = commodity.loc[msites, 'Type'].to_frame().reset_index(['Site', 'Commodity'])\n",
    "com_type = com_type[(com_type['Type'] == \"SupIm\") | (com_type['Type'] == \"Stock\")].fillna(0)\n",
    "com_type = com_type.drop(labels=['Site'], axis = 1)\n",
    "com_type = com_type.drop_duplicates(['Commodity'], keep='last').set_index('Commodity')\n",
    "com = list(com_type.index)\n",
    "\n",
    "# get required process-commodity data\n",
    "ratio_in = process_commodity.loc[(slice(None), com), :]\n",
    "ratio_in = ratio_in.xs('In', level='Direction')['ratio'].to_frame()\n",
    "ratio_in = ratio_in.reset_index(['Process', 'Commodity'])\n",
    "ratio_in = ratio_in.set_index(['Process', 'Commodity'])\n",
    "\n",
    "# get processes from input\n",
    "pros = list(ratio_in.index.levels[0])\n",
    "input_pros = input(\"Type in the process for evaluation(i.e. Wind park, Hydro plant):\").split(', ')\n",
    "\n",
    "# get related commodity for each process\n",
    "pro_com = ratio_in.reset_index('Commodity').drop('ratio', axis = 1)\n",
    "\n",
    "ratio_outelec = process_commodity.xs(('Elec', 'Out'), level=['Commodity','Direction'])['ratio'].to_frame()\n",
    "ratio_outco2 = process_commodity.xs(('CO2', 'Out'), level=['Commodity','Direction'])['ratio'].to_frame()\n",
    "\n",
    "# get commodity price\n",
    "com_price = commodity.loc[msites, 'price'].to_frame().rename(columns={0:'price'}).fillna(0)"
   ]
  },
  {
   "cell_type": "code",
   "execution_count": 6,
   "metadata": {
    "collapsed": false
   },
   "outputs": [],
   "source": [
    "def calc_annuity(r, n):\n",
    "    q = 1 + r\n",
    "    a = ((q ** n) * (q - 1)) / ((q ** n) - 1)\n",
    "    return a"
   ]
  },
  {
   "cell_type": "code",
   "execution_count": 7,
   "metadata": {
    "collapsed": false
   },
   "outputs": [],
   "source": [
    "def calc_LCOE(invc, fixc, varc, fuelc, co2c, eff, FLH, r, n):\n",
    "    # calculate annuity investment costs\n",
    "    invc_a = invc * calc_annuity(r, n)\n",
    "    # calculate LOCE\n",
    "    LCOE = ((invc_a + fixc) / FLH) + varc + ((fuelc + co2c) / eff)\n",
    "    return LCOE"
   ]
  },
  {
   "cell_type": "code",
   "execution_count": 8,
   "metadata": {
    "collapsed": true
   },
   "outputs": [],
   "source": [
    "def clac_result(site, pro, LCOE_reg, LCOE_con, pro_ratio):\n",
    "    \n",
    "    icost = mprocess.loc[(site, pro), 'inv-cost']\n",
    "    fixcost = mprocess.loc[(site, pro), 'fix-cost']\n",
    "    varcost = mprocess.loc[(site, pro), 'var-cost']\n",
    "    wacc = mprocess.loc[(site, pro), 'wacc']\n",
    "    dep = mprocess.loc[(site, pro), 'depreciation']\n",
    "    eff = process_commodity.loc[(pro, pro_ratio, 'Out'),'ratio']\n",
    "\n",
    "    pcom = pro_com.loc[pro, 'Commodity']\n",
    "    fuelcost = com_price.loc[(site, pcom), 'price']\n",
    "\n",
    "    if pro in ratio_outco2.index:\n",
    "        co2cost = ratio_outco2.loc[pro, 'ratio']\n",
    "    else:\n",
    "        co2cost = 0\n",
    "\n",
    "    if (com_type.loc[pcom, 'Type'] == \"SupIm\"):\n",
    "        FLH = msupim.loc[(site, pcom), 'FLH']\n",
    "        result_reg = calc_LCOE(icost, fixcost, varcost, fuelcost, co2cost, eff, FLH, wacc, dep)\n",
    "        LCOE_reg.append({pro: result_reg, 'FLH': int(FLH)})\n",
    "        return LCOE_reg\n",
    "\n",
    "    else:\n",
    "        FLH = range(1,8761)\n",
    "\n",
    "        result_con = pd.DataFrame({pro: calc_LCOE(icost, fixcost, varcost, fuelcost, co2cost, eff, FLH, wacc, dep)})\n",
    "        LCOE_con.insert(0, pro, result_con)\n",
    "        return LCOE_con"
   ]
  },
  {
   "cell_type": "code",
   "execution_count": 9,
   "metadata": {
    "collapsed": true
   },
   "outputs": [],
   "source": [
    "def prepare_result_directory(result_name):\n",
    "    \"\"\" create a time stamped directory within the result folder \"\"\"\n",
    "    # timestamp for result directory\n",
    "    now = datetime.now().strftime('%Y%m%dT%H%M')\n",
    "\n",
    "    # create result directory if not existent\n",
    "    result_dir = os.path.join('evaluate', '{}-{}'.format(result_name, now))\n",
    "    if not os.path.exists(result_dir):\n",
    "        os.makedirs(result_dir)\n",
    "\n",
    "    return result_dir"
   ]
  },
  {
   "cell_type": "code",
   "execution_count": 10,
   "metadata": {
    "collapsed": false
   },
   "outputs": [],
   "source": [
    "def plot_site():\n",
    "        # plot figure of current site\n",
    "        \n",
    "        # initialize x-axis and legend\n",
    "        hour_con = list(range(1, 8761))\n",
    "        hour_reg = list(LCOE_reg.index)\n",
    "        legend = list(result_site.columns)\n",
    "        \n",
    "        # plot reg and con LCOE in one plot\n",
    "        if len(LCOE_con.columns) == 0:\n",
    "            plt.plot(hour_reg, LCOE_reg, 'o')\n",
    "        \n",
    "        elif len(LCOE_reg.columns) == 0:\n",
    "            plt.plot(hour_con, LCOE_con)\n",
    "        \n",
    "        else: \n",
    "            plt.plot(hour_con, LCOE_con,\n",
    "                     hour_reg, LCOE_reg, 'o')\n",
    "        \n",
    "        plt.xlabel('FLH')\n",
    "        plt.ylabel('LCOE [€/MWh]')\n",
    "        plt.xlim([1,8760])\n",
    "        plt.ylim([0,200])\n",
    "        plt.rcParams['legend.numpoints'] = 1\n",
    "        plt.legend(legend)\n",
    "        \n",
    "        # save plot of each side to specific path\n",
    "        result_name = os.path.splitext(input_file)[0]  # cut away file extension\n",
    "        result_dir = prepare_result_directory(result_name)  # name + time stamp\n",
    "        plt.savefig('{}\\LCOE_{}.png'.format(result_dir, site))\n",
    "        plt.close()"
   ]
  },
  {
   "cell_type": "code",
   "execution_count": 11,
   "metadata": {
    "collapsed": false,
    "scrolled": true
   },
   "outputs": [],
   "source": [
    "# calculation for commoditys with electricity output\n",
    "for site in msites:\n",
    "    if \"Elec\" not in mcom:\n",
    "        print(\"There is no parameter for electricity in your demand sheet. Please add 'Elec'!\")\n",
    "        break\n",
    "    else:\n",
    "        # initialize result Dataframe\n",
    "        LCOE_con = pd.DataFrame()\n",
    "        LCOE_reg = []\n",
    "        \n",
    "        for pro in input_pros:\n",
    "            if pro not in pros:\n",
    "                print(\"{} is not a valid Process! Valid inputs are: {}\".format(pro, pros))\n",
    "                break\n",
    "                \n",
    "            elif pro in (mprocess.ix[site].index.get_level_values(0) & ratio_outelec.index):\n",
    "                clac_result(site, pro, LCOE_reg, LCOE_con, 'Elec')          \n",
    "\n",
    "            else: \n",
    "                continue \n",
    "                \n",
    "        # combine results (renewable and conventional processes) of current site   \n",
    "        LCOE_reg = pd.DataFrame(LCOE_reg).set_index('FLH')\n",
    "        LCOE_con.index.name = 'FLH'\n",
    "        result_site = pd.concat([LCOE_con, LCOE_reg], axis=1)\n",
    "        \n",
    "        # plot each site as png-file\n",
    "        plot_site()"
   ]
  },
  {
   "cell_type": "code",
   "execution_count": null,
   "metadata": {
    "collapsed": true
   },
   "outputs": [],
   "source": []
  }
 ],
 "metadata": {
  "anaconda-cloud": {},
  "kernelspec": {
   "display_name": "Python [default]",
   "language": "python",
   "name": "python3"
  },
  "language_info": {
   "codemirror_mode": {
    "name": "ipython",
    "version": 3
   },
   "file_extension": ".py",
   "mimetype": "text/x-python",
   "name": "python",
   "nbconvert_exporter": "python",
   "pygments_lexer": "ipython3",
   "version": "3.5.2"
  }
 },
 "nbformat": 4,
 "nbformat_minor": 1
}
