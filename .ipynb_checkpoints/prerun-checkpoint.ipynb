{
 "cells": [
  {
   "cell_type": "code",
   "execution_count": 2,
   "metadata": {
    "collapsed": false
   },
   "outputs": [],
   "source": [
    "%matplotlib inline\n",
    "import os\n",
    "import math\n",
    "import pandas as pd\n",
    "import pyomo.environ\n",
    "import pyomo.core as pyomo\n",
    "import shutil\n",
    "import urbs\n",
    "import xlrd\n",
    "import numpy as np\n",
    "from xlrd import XLRDError\n",
    "from datetime import datetime\n",
    "from pyomo.opt.base import SolverFactory"
   ]
  },
  {
   "cell_type": "code",
   "execution_count": 3,
   "metadata": {
    "collapsed": false
   },
   "outputs": [],
   "source": [
    "def split_columns(columns, sep='.'):\n",
    "    \"\"\"Split columns by separator into MultiIndex.\n",
    "\n",
    "    Given a list of column labels containing a separator string (default: '.'),\n",
    "    derive a MulitIndex that is split at the separator string.\n",
    "\n",
    "    Args:\n",
    "        columns: list of column labels, containing the separator string\n",
    "        sep: the separator string (default: '.')\n",
    "\n",
    "    Returns:\n",
    "        a MultiIndex corresponding to input, with levels split at separator\n",
    "\n",
    "    Example:\n",
    "        >>> split_columns(['DE.Elec', 'MA.Elec', 'NO.Wind'])\n",
    "        MultiIndex(levels=[['DE', 'MA', 'NO'], ['Elec', 'Wind']],\n",
    "                   labels=[[0, 1, 2], [0, 0, 1]])\n",
    "\n",
    "    \"\"\"\n",
    "    if len(columns) == 0:\n",
    "        return columns\n",
    "    column_tuples = [tuple(col.split('.')) for col in columns]\n",
    "    return pd.MultiIndex.from_tuples(column_tuples)\n",
    "\n",
    "with pd.ExcelFile('1Node.xlsx') as xls:\n",
    "    site = xls.parse('Site').set_index(['Name'])\n",
    "    commodity = (\n",
    "        xls.parse('Commodity').set_index(['Site', 'Commodity']))\n",
    "    process = xls.parse('Process').set_index(['Site', 'Process'])\n",
    "    process_commodity = (\n",
    "        xls.parse('Process-Commodity')\n",
    "           .set_index(['Process', 'Commodity', 'Direction']))\n",
    "    transmission = (\n",
    "        xls.parse('Transmission')\n",
    "           .set_index(['Site In', 'Site Out',\n",
    "                       'Transmission', 'Commodity']))\n",
    "    storage = (\n",
    "        xls.parse('Storage').set_index(['Site', 'Storage', 'Commodity']))\n",
    "    demand = xls.parse('Demand').set_index(['t'])\n",
    "    supim = xls.parse('SupIm').set_index(['t'])\n",
    "    buy_sell_price = xls.parse('Buy-Sell-Price').set_index(['t'])\n",
    "    dsm = xls.parse('DSM').set_index(['Site', 'Commodity'])\n",
    "    try:\n",
    "        hacks = xls.parse('Hacks').set_index(['Name'])\n",
    "    except XLRDError:\n",
    "        hacks = None\n",
    "\n",
    "# prepare input data\n",
    "# split columns by dots '.', so that 'DE.Elec' becomes the two-level\n",
    "# column index ('DE', 'Elec')\n",
    "demand.columns = split_columns(demand.columns, '.')\n",
    "supim.columns = split_columns(supim.columns, '.')\n",
    "buy_sell_price.columns = split_columns(buy_sell_price.columns, '.')\n",
    "\n",
    "data = {\n",
    "    'site': site,\n",
    "    'commodity': commodity,\n",
    "    'process': process,\n",
    "    'process_commodity': process_commodity,\n",
    "    'transmission': transmission,\n",
    "    'storage': storage,\n",
    "    'demand': demand,\n",
    "    'supim': supim,\n",
    "    'buy_sell_price': buy_sell_price,\n",
    "    'dsm': dsm}\n",
    "if hacks is not None:\n",
    "    data['hacks'] = hacks\n",
    "\n",
    "# sort nested indexes to make direct assignments work\n",
    "for key in data:\n",
    "    if isinstance(data[key].index, pd.core.index.MultiIndex):\n",
    "        data[key].sortlevel(inplace=True)"
   ]
  },
  {
   "cell_type": "code",
   "execution_count": 4,
   "metadata": {
    "collapsed": false
   },
   "outputs": [],
   "source": [
    "# get used sites and \"main\" commoditys\n",
    "msites = list(demand.columns.levels[0])\n",
    "mcom = list(demand.columns.levels[1])"
   ]
  },
  {
   "cell_type": "code",
   "execution_count": 5,
   "metadata": {
    "collapsed": false
   },
   "outputs": [],
   "source": [
    "# get required supim data\n",
    "msupim = supim[msites].sum().to_frame().rename(columns={0:'FLH'})\n",
    "\n",
    "# get required process data \n",
    "mpara = ['inv-cost', 'fix-cost', 'var-cost', 'wacc', 'depreciation']\n",
    "mprocess = process.loc[msites, mpara]\n",
    "\n",
    "# get commodity type - SupIm, Stock\n",
    "com_type = commodity.loc[msites, 'Type'].to_frame().reset_index(['Site', 'Commodity'])\n",
    "com_type = com_type[(com_type['Type'] == \"SupIm\") | (com_type['Type'] == \"Stock\")].fillna(0)\n",
    "com_type = com_type.drop(labels=['Site'], axis = 1)\n",
    "com_type = com_type.drop_duplicates(['Commodity'], keep='last').set_index('Commodity')\n",
    "com = list(com_type.index)\n",
    "\n",
    "# get required process-commodity data\n",
    "ratio_in = process_commodity.loc[(slice(None), com), :]\n",
    "ratio_in = ratio_in.xs('In', level='Direction')['ratio'].to_frame()\n",
    "ratio_in = ratio_in.reset_index(['Process', 'Commodity'])\n",
    "ratio_in = ratio_in.set_index(['Process', 'Commodity'])\n",
    "pros = list(ratio_in.index.levels[0])\n",
    "\n",
    "# get related commodity for each process\n",
    "pro_com = ratio_in.reset_index('Commodity').drop('ratio', axis = 1)\n",
    "\n",
    "ratio_outelec = process_commodity.xs(('Elec', 'Out'), level=['Commodity','Direction'])['ratio'].to_frame()\n",
    "ratio_outco2 = process_commodity.xs(('CO2', 'Out'), level=['Commodity','Direction'])['ratio'].to_frame()\n",
    "\n",
    "# get commodity price\n",
    "com_price = commodity.loc[msites, 'price'].to_frame().rename(columns={0:'price'}).fillna(0)"
   ]
  },
  {
   "cell_type": "code",
   "execution_count": 6,
   "metadata": {
    "collapsed": false
   },
   "outputs": [],
   "source": [
    "def calc_annuity(r, n):\n",
    "    q = 1 + r\n",
    "    a = ((q ** n) * (q - 1)) / ((q ** n) - 1)\n",
    "    return a"
   ]
  },
  {
   "cell_type": "code",
   "execution_count": 7,
   "metadata": {
    "collapsed": false
   },
   "outputs": [],
   "source": [
    "def calc_LOCE(invc, fixc, varc, fuelc, co2c, eff, FLH, r, n):\n",
    "    # calculate annuity investment costs\n",
    "    invc_a = invc * calc_annuity(r, n)\n",
    "    # calculate LOCE\n",
    "    LOCE = ((invc_a + fixc) / FLH) + varc + ((fuelc + co2c) / eff)\n",
    "    return LOCE"
   ]
  },
  {
   "cell_type": "code",
   "execution_count": 8,
   "metadata": {
    "collapsed": false
   },
   "outputs": [
    {
     "ename": "KeyError",
     "evalue": "'the label [Absorption chiller] is not in the [index]'",
     "output_type": "error",
     "traceback": [
      "\u001b[1;31m---------------------------------------------------------------------------\u001b[0m",
      "\u001b[1;31mKeyError\u001b[0m                                  Traceback (most recent call last)",
      "\u001b[1;32mC:\\Users\\Konrad\\Anaconda3\\lib\\site-packages\\pandas\\core\\indexing.py\u001b[0m in \u001b[0;36m_has_valid_type\u001b[1;34m(self, key, axis)\u001b[0m\n\u001b[0;32m   1382\u001b[0m                 \u001b[1;32mif\u001b[0m \u001b[0mkey\u001b[0m \u001b[1;32mnot\u001b[0m \u001b[1;32min\u001b[0m \u001b[0max\u001b[0m\u001b[1;33m:\u001b[0m\u001b[1;33m\u001b[0m\u001b[0m\n\u001b[1;32m-> 1383\u001b[1;33m                     \u001b[0merror\u001b[0m\u001b[1;33m(\u001b[0m\u001b[1;33m)\u001b[0m\u001b[1;33m\u001b[0m\u001b[0m\n\u001b[0m\u001b[0;32m   1384\u001b[0m             \u001b[1;32mexcept\u001b[0m \u001b[0mTypeError\u001b[0m \u001b[1;32mas\u001b[0m \u001b[0me\u001b[0m\u001b[1;33m:\u001b[0m\u001b[1;33m\u001b[0m\u001b[0m\n",
      "\u001b[1;32mC:\\Users\\Konrad\\Anaconda3\\lib\\site-packages\\pandas\\core\\indexing.py\u001b[0m in \u001b[0;36merror\u001b[1;34m()\u001b[0m\n\u001b[0;32m   1377\u001b[0m                 raise KeyError(\"the label [%s] is not in the [%s]\" %\n\u001b[1;32m-> 1378\u001b[1;33m                                (key, self.obj._get_axis_name(axis)))\n\u001b[0m\u001b[0;32m   1379\u001b[0m \u001b[1;33m\u001b[0m\u001b[0m\n",
      "\u001b[1;31mKeyError\u001b[0m: 'the label [Absorption chiller] is not in the [index]'",
      "\nDuring handling of the above exception, another exception occurred:\n",
      "\u001b[1;31mKeyError\u001b[0m                                  Traceback (most recent call last)",
      "\u001b[1;32m<ipython-input-8-be615f5f7067>\u001b[0m in \u001b[0;36m<module>\u001b[1;34m()\u001b[0m\n\u001b[0;32m      8\u001b[0m             \u001b[0mwacc\u001b[0m \u001b[1;33m=\u001b[0m \u001b[0mmprocess\u001b[0m\u001b[1;33m.\u001b[0m\u001b[0mloc\u001b[0m\u001b[1;33m[\u001b[0m\u001b[1;33m(\u001b[0m\u001b[0msite\u001b[0m\u001b[1;33m,\u001b[0m \u001b[0mpro\u001b[0m\u001b[1;33m)\u001b[0m\u001b[1;33m,\u001b[0m \u001b[1;34m'wacc'\u001b[0m\u001b[1;33m]\u001b[0m\u001b[1;33m\u001b[0m\u001b[0m\n\u001b[0;32m      9\u001b[0m             \u001b[0mdep\u001b[0m \u001b[1;33m=\u001b[0m \u001b[0mmprocess\u001b[0m\u001b[1;33m.\u001b[0m\u001b[0mloc\u001b[0m\u001b[1;33m[\u001b[0m\u001b[1;33m(\u001b[0m\u001b[0msite\u001b[0m\u001b[1;33m,\u001b[0m \u001b[0mpro\u001b[0m\u001b[1;33m)\u001b[0m\u001b[1;33m,\u001b[0m \u001b[1;34m'depreciation'\u001b[0m\u001b[1;33m]\u001b[0m\u001b[1;33m\u001b[0m\u001b[0m\n\u001b[1;32m---> 10\u001b[1;33m             \u001b[0meff\u001b[0m \u001b[1;33m=\u001b[0m \u001b[0mratio_outelec\u001b[0m\u001b[1;33m.\u001b[0m\u001b[0mloc\u001b[0m\u001b[1;33m[\u001b[0m\u001b[0mpro\u001b[0m\u001b[1;33m,\u001b[0m \u001b[1;34m'ratio'\u001b[0m\u001b[1;33m]\u001b[0m\u001b[1;33m\u001b[0m\u001b[0m\n\u001b[0m\u001b[0;32m     11\u001b[0m \u001b[1;33m\u001b[0m\u001b[0m\n\u001b[0;32m     12\u001b[0m             \u001b[0mpcom\u001b[0m \u001b[1;33m=\u001b[0m \u001b[0mpro_com\u001b[0m\u001b[1;33m.\u001b[0m\u001b[0mloc\u001b[0m\u001b[1;33m[\u001b[0m\u001b[0mpro\u001b[0m\u001b[1;33m,\u001b[0m \u001b[1;34m'Commodity'\u001b[0m\u001b[1;33m]\u001b[0m\u001b[1;33m\u001b[0m\u001b[0m\n",
      "\u001b[1;32mC:\\Users\\Konrad\\Anaconda3\\lib\\site-packages\\pandas\\core\\indexing.py\u001b[0m in \u001b[0;36m__getitem__\u001b[1;34m(self, key)\u001b[0m\n\u001b[0;32m   1282\u001b[0m     \u001b[1;32mdef\u001b[0m \u001b[0m__getitem__\u001b[0m\u001b[1;33m(\u001b[0m\u001b[0mself\u001b[0m\u001b[1;33m,\u001b[0m \u001b[0mkey\u001b[0m\u001b[1;33m)\u001b[0m\u001b[1;33m:\u001b[0m\u001b[1;33m\u001b[0m\u001b[0m\n\u001b[0;32m   1283\u001b[0m         \u001b[1;32mif\u001b[0m \u001b[0mtype\u001b[0m\u001b[1;33m(\u001b[0m\u001b[0mkey\u001b[0m\u001b[1;33m)\u001b[0m \u001b[1;32mis\u001b[0m \u001b[0mtuple\u001b[0m\u001b[1;33m:\u001b[0m\u001b[1;33m\u001b[0m\u001b[0m\n\u001b[1;32m-> 1284\u001b[1;33m             \u001b[1;32mreturn\u001b[0m \u001b[0mself\u001b[0m\u001b[1;33m.\u001b[0m\u001b[0m_getitem_tuple\u001b[0m\u001b[1;33m(\u001b[0m\u001b[0mkey\u001b[0m\u001b[1;33m)\u001b[0m\u001b[1;33m\u001b[0m\u001b[0m\n\u001b[0m\u001b[0;32m   1285\u001b[0m         \u001b[1;32melse\u001b[0m\u001b[1;33m:\u001b[0m\u001b[1;33m\u001b[0m\u001b[0m\n\u001b[0;32m   1286\u001b[0m             \u001b[1;32mreturn\u001b[0m \u001b[0mself\u001b[0m\u001b[1;33m.\u001b[0m\u001b[0m_getitem_axis\u001b[0m\u001b[1;33m(\u001b[0m\u001b[0mkey\u001b[0m\u001b[1;33m,\u001b[0m \u001b[0maxis\u001b[0m\u001b[1;33m=\u001b[0m\u001b[1;36m0\u001b[0m\u001b[1;33m)\u001b[0m\u001b[1;33m\u001b[0m\u001b[0m\n",
      "\u001b[1;32mC:\\Users\\Konrad\\Anaconda3\\lib\\site-packages\\pandas\\core\\indexing.py\u001b[0m in \u001b[0;36m_getitem_tuple\u001b[1;34m(self, tup)\u001b[0m\n\u001b[0;32m    778\u001b[0m     \u001b[1;32mdef\u001b[0m \u001b[0m_getitem_tuple\u001b[0m\u001b[1;33m(\u001b[0m\u001b[0mself\u001b[0m\u001b[1;33m,\u001b[0m \u001b[0mtup\u001b[0m\u001b[1;33m)\u001b[0m\u001b[1;33m:\u001b[0m\u001b[1;33m\u001b[0m\u001b[0m\n\u001b[0;32m    779\u001b[0m         \u001b[1;32mtry\u001b[0m\u001b[1;33m:\u001b[0m\u001b[1;33m\u001b[0m\u001b[0m\n\u001b[1;32m--> 780\u001b[1;33m             \u001b[1;32mreturn\u001b[0m \u001b[0mself\u001b[0m\u001b[1;33m.\u001b[0m\u001b[0m_getitem_lowerdim\u001b[0m\u001b[1;33m(\u001b[0m\u001b[0mtup\u001b[0m\u001b[1;33m)\u001b[0m\u001b[1;33m\u001b[0m\u001b[0m\n\u001b[0m\u001b[0;32m    781\u001b[0m         \u001b[1;32mexcept\u001b[0m \u001b[0mIndexingError\u001b[0m\u001b[1;33m:\u001b[0m\u001b[1;33m\u001b[0m\u001b[0m\n\u001b[0;32m    782\u001b[0m             \u001b[1;32mpass\u001b[0m\u001b[1;33m\u001b[0m\u001b[0m\n",
      "\u001b[1;32mC:\\Users\\Konrad\\Anaconda3\\lib\\site-packages\\pandas\\core\\indexing.py\u001b[0m in \u001b[0;36m_getitem_lowerdim\u001b[1;34m(self, tup)\u001b[0m\n\u001b[0;32m    902\u001b[0m         \u001b[1;32mfor\u001b[0m \u001b[0mi\u001b[0m\u001b[1;33m,\u001b[0m \u001b[0mkey\u001b[0m \u001b[1;32min\u001b[0m \u001b[0menumerate\u001b[0m\u001b[1;33m(\u001b[0m\u001b[0mtup\u001b[0m\u001b[1;33m)\u001b[0m\u001b[1;33m:\u001b[0m\u001b[1;33m\u001b[0m\u001b[0m\n\u001b[0;32m    903\u001b[0m             \u001b[1;32mif\u001b[0m \u001b[0mis_label_like\u001b[0m\u001b[1;33m(\u001b[0m\u001b[0mkey\u001b[0m\u001b[1;33m)\u001b[0m \u001b[1;32mor\u001b[0m \u001b[0misinstance\u001b[0m\u001b[1;33m(\u001b[0m\u001b[0mkey\u001b[0m\u001b[1;33m,\u001b[0m \u001b[0mtuple\u001b[0m\u001b[1;33m)\u001b[0m\u001b[1;33m:\u001b[0m\u001b[1;33m\u001b[0m\u001b[0m\n\u001b[1;32m--> 904\u001b[1;33m                 \u001b[0msection\u001b[0m \u001b[1;33m=\u001b[0m \u001b[0mself\u001b[0m\u001b[1;33m.\u001b[0m\u001b[0m_getitem_axis\u001b[0m\u001b[1;33m(\u001b[0m\u001b[0mkey\u001b[0m\u001b[1;33m,\u001b[0m \u001b[0maxis\u001b[0m\u001b[1;33m=\u001b[0m\u001b[0mi\u001b[0m\u001b[1;33m)\u001b[0m\u001b[1;33m\u001b[0m\u001b[0m\n\u001b[0m\u001b[0;32m    905\u001b[0m \u001b[1;33m\u001b[0m\u001b[0m\n\u001b[0;32m    906\u001b[0m                 \u001b[1;31m# we have yielded a scalar ?\u001b[0m\u001b[1;33m\u001b[0m\u001b[1;33m\u001b[0m\u001b[0m\n",
      "\u001b[1;32mC:\\Users\\Konrad\\Anaconda3\\lib\\site-packages\\pandas\\core\\indexing.py\u001b[0m in \u001b[0;36m_getitem_axis\u001b[1;34m(self, key, axis)\u001b[0m\n\u001b[0;32m   1427\u001b[0m \u001b[1;33m\u001b[0m\u001b[0m\n\u001b[0;32m   1428\u001b[0m         \u001b[1;31m# fall thru to straight lookup\u001b[0m\u001b[1;33m\u001b[0m\u001b[1;33m\u001b[0m\u001b[0m\n\u001b[1;32m-> 1429\u001b[1;33m         \u001b[0mself\u001b[0m\u001b[1;33m.\u001b[0m\u001b[0m_has_valid_type\u001b[0m\u001b[1;33m(\u001b[0m\u001b[0mkey\u001b[0m\u001b[1;33m,\u001b[0m \u001b[0maxis\u001b[0m\u001b[1;33m)\u001b[0m\u001b[1;33m\u001b[0m\u001b[0m\n\u001b[0m\u001b[0;32m   1430\u001b[0m         \u001b[1;32mreturn\u001b[0m \u001b[0mself\u001b[0m\u001b[1;33m.\u001b[0m\u001b[0m_get_label\u001b[0m\u001b[1;33m(\u001b[0m\u001b[0mkey\u001b[0m\u001b[1;33m,\u001b[0m \u001b[0maxis\u001b[0m\u001b[1;33m=\u001b[0m\u001b[0maxis\u001b[0m\u001b[1;33m)\u001b[0m\u001b[1;33m\u001b[0m\u001b[0m\n\u001b[0;32m   1431\u001b[0m \u001b[1;33m\u001b[0m\u001b[0m\n",
      "\u001b[1;32mC:\\Users\\Konrad\\Anaconda3\\lib\\site-packages\\pandas\\core\\indexing.py\u001b[0m in \u001b[0;36m_has_valid_type\u001b[1;34m(self, key, axis)\u001b[0m\n\u001b[0;32m   1389\u001b[0m                 \u001b[1;32mraise\u001b[0m\u001b[1;33m\u001b[0m\u001b[0m\n\u001b[0;32m   1390\u001b[0m             \u001b[1;32mexcept\u001b[0m\u001b[1;33m:\u001b[0m\u001b[1;33m\u001b[0m\u001b[0m\n\u001b[1;32m-> 1391\u001b[1;33m                 \u001b[0merror\u001b[0m\u001b[1;33m(\u001b[0m\u001b[1;33m)\u001b[0m\u001b[1;33m\u001b[0m\u001b[0m\n\u001b[0m\u001b[0;32m   1392\u001b[0m \u001b[1;33m\u001b[0m\u001b[0m\n\u001b[0;32m   1393\u001b[0m         \u001b[1;32mreturn\u001b[0m \u001b[1;32mTrue\u001b[0m\u001b[1;33m\u001b[0m\u001b[0m\n",
      "\u001b[1;32mC:\\Users\\Konrad\\Anaconda3\\lib\\site-packages\\pandas\\core\\indexing.py\u001b[0m in \u001b[0;36merror\u001b[1;34m()\u001b[0m\n\u001b[0;32m   1376\u001b[0m                                     \"key\")\n\u001b[0;32m   1377\u001b[0m                 raise KeyError(\"the label [%s] is not in the [%s]\" %\n\u001b[1;32m-> 1378\u001b[1;33m                                (key, self.obj._get_axis_name(axis)))\n\u001b[0m\u001b[0;32m   1379\u001b[0m \u001b[1;33m\u001b[0m\u001b[0m\n\u001b[0;32m   1380\u001b[0m             \u001b[1;32mtry\u001b[0m\u001b[1;33m:\u001b[0m\u001b[1;33m\u001b[0m\u001b[0m\n",
      "\u001b[1;31mKeyError\u001b[0m: 'the label [Absorption chiller] is not in the [index]'"
     ]
    }
   ],
   "source": [
    "for site in msites:\n",
    "    for pro in pros:\n",
    "        if pro in mprocess.ix[site].index.get_level_values(0):\n",
    "            \n",
    "            icost = mprocess.loc[(site, pro), 'inv-cost']\n",
    "            fixcost = mprocess.loc[(site, pro), 'fix-cost']\n",
    "            varcost = mprocess.loc[(site, pro), 'var-cost']\n",
    "            wacc = mprocess.loc[(site, pro), 'wacc']\n",
    "            dep = mprocess.loc[(site, pro), 'depreciation']\n",
    "            eff = ratio_outelec.loc[pro, 'ratio']\n",
    "            \n",
    "            pcom = pro_com.loc[pro, 'Commodity']\n",
    "            fuelcost = com_price.loc[(site, pcom), 'price']\n",
    "            \n",
    "            if pro in ratio_outco2.index:\n",
    "                co2cost = ratio_outco2.loc[pro, 'ratio']\n",
    "            else:\n",
    "                co2cost = 0\n",
    "            \n",
    "            if com_type.loc[pcom, 'Type'] == \"SupIm\":\n",
    "                FLH = msupim.loc[(site, pcom), 'FLH']\n",
    "            else:\n",
    "                FLH = 1000\n",
    "            \n",
    "            LOCE = calc_LOCE(icost, fixcost, varcost, fuelcost, co2cost, eff, FLH, wacc, dep)\n",
    "            print(site, \"---\", pro, \"LOCE:\", LOCE, \"---\") \n",
    "        else: \n",
    "            continue"
   ]
  },
  {
   "cell_type": "code",
   "execution_count": null,
   "metadata": {
    "collapsed": true
   },
   "outputs": [],
   "source": []
  }
 ],
 "metadata": {
  "kernelspec": {
   "display_name": "Python 3",
   "language": "python",
   "name": "python3"
  },
  "language_info": {
   "codemirror_mode": {
    "name": "ipython",
    "version": 3
   },
   "file_extension": ".py",
   "mimetype": "text/x-python",
   "name": "python",
   "nbconvert_exporter": "python",
   "pygments_lexer": "ipython3",
   "version": "3.5.1"
  }
 },
 "nbformat": 4,
 "nbformat_minor": 1
}
