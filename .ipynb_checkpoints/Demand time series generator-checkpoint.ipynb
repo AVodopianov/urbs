{
 "cells": [
  {
   "cell_type": "markdown",
   "metadata": {},
   "source": [
    "## Demand timeseries creation (Campus Garching)\n",
    "#### by Konrad Schönleber\n",
    "This notebook can be used to create generic demand time series for urbs simulations. It was designed for the Campus in Garching but might also be useful in other contexts."
   ]
  },
  {
   "cell_type": "code",
   "execution_count": 135,
   "metadata": {
    "collapsed": true
   },
   "outputs": [],
   "source": [
    "%matplotlib inline\n",
    "import pandas as pd\n",
    "import numpy as np"
   ]
  },
  {
   "cell_type": "markdown",
   "metadata": {},
   "source": [
    "First an empty pandas-dataframe \"df\" indexed with the hours of the year is created."
   ]
  },
  {
   "cell_type": "code",
   "execution_count": 136,
   "metadata": {
    "collapsed": false
   },
   "outputs": [],
   "source": [
    "index = pd.date_range('1/1/2016', periods=8760, freq='H')\n",
    "columns = ['Weekday', 'Row number', 'Elec_baseload', 'Elec_weekday', 'Elec_noise', 'Elec_total']\n",
    "df = pd.DataFrame(index=index, columns=columns).fillna(0)"
   ]
  },
  {
   "cell_type": "code",
   "execution_count": 137,
   "metadata": {
    "collapsed": false
   },
   "outputs": [
    {
     "data": {
      "text/html": [
       "<div>\n",
       "<table border=\"1\" class=\"dataframe\">\n",
       "  <thead>\n",
       "    <tr style=\"text-align: right;\">\n",
       "      <th></th>\n",
       "      <th>Weekday</th>\n",
       "      <th>Row number</th>\n",
       "      <th>Elec_baseload</th>\n",
       "      <th>Elec_weekday</th>\n",
       "      <th>Elec_noise</th>\n",
       "      <th>Elec_total</th>\n",
       "    </tr>\n",
       "  </thead>\n",
       "  <tbody>\n",
       "    <tr>\n",
       "      <th>2016-01-01 00:00:00</th>\n",
       "      <td>0</td>\n",
       "      <td>0</td>\n",
       "      <td>0</td>\n",
       "      <td>0</td>\n",
       "      <td>0</td>\n",
       "      <td>0</td>\n",
       "    </tr>\n",
       "    <tr>\n",
       "      <th>2016-01-01 01:00:00</th>\n",
       "      <td>0</td>\n",
       "      <td>0</td>\n",
       "      <td>0</td>\n",
       "      <td>0</td>\n",
       "      <td>0</td>\n",
       "      <td>0</td>\n",
       "    </tr>\n",
       "    <tr>\n",
       "      <th>2016-01-01 02:00:00</th>\n",
       "      <td>0</td>\n",
       "      <td>0</td>\n",
       "      <td>0</td>\n",
       "      <td>0</td>\n",
       "      <td>0</td>\n",
       "      <td>0</td>\n",
       "    </tr>\n",
       "    <tr>\n",
       "      <th>2016-01-01 03:00:00</th>\n",
       "      <td>0</td>\n",
       "      <td>0</td>\n",
       "      <td>0</td>\n",
       "      <td>0</td>\n",
       "      <td>0</td>\n",
       "      <td>0</td>\n",
       "    </tr>\n",
       "    <tr>\n",
       "      <th>2016-01-01 04:00:00</th>\n",
       "      <td>0</td>\n",
       "      <td>0</td>\n",
       "      <td>0</td>\n",
       "      <td>0</td>\n",
       "      <td>0</td>\n",
       "      <td>0</td>\n",
       "    </tr>\n",
       "  </tbody>\n",
       "</table>\n",
       "</div>"
      ],
      "text/plain": [
       "                     Weekday  Row number  Elec_baseload  Elec_weekday  \\\n",
       "2016-01-01 00:00:00        0           0              0             0   \n",
       "2016-01-01 01:00:00        0           0              0             0   \n",
       "2016-01-01 02:00:00        0           0              0             0   \n",
       "2016-01-01 03:00:00        0           0              0             0   \n",
       "2016-01-01 04:00:00        0           0              0             0   \n",
       "\n",
       "                     Elec_noise  Elec_total  \n",
       "2016-01-01 00:00:00           0           0  \n",
       "2016-01-01 01:00:00           0           0  \n",
       "2016-01-01 02:00:00           0           0  \n",
       "2016-01-01 03:00:00           0           0  \n",
       "2016-01-01 04:00:00           0           0  "
      ]
     },
     "execution_count": 137,
     "metadata": {},
     "output_type": "execute_result"
    }
   ],
   "source": [
    "df.head(n=5)"
   ]
  },
  {
   "cell_type": "markdown",
   "metadata": {},
   "source": [
    "The following two helper columns make life easier later. The column \"Weekday\" contains an integer coding for the weekdays from \"Monday\" == 0 to \"Sunday\" == 6."
   ]
  },
  {
   "cell_type": "code",
   "execution_count": 138,
   "metadata": {
    "collapsed": false
   },
   "outputs": [],
   "source": [
    "df['Row number'] = np.linspace(0, 8759, 8760).T\n",
    "df['Weekday'] = df.index.weekday"
   ]
  },
  {
   "cell_type": "markdown",
   "metadata": {},
   "source": [
    "### Data generation\n",
    "Now the datframe is filled with data. To keep this general and usable the data determinations are written as functions. All values here are given in MW."
   ]
  },
  {
   "cell_type": "code",
   "execution_count": 139,
   "metadata": {
    "collapsed": true
   },
   "outputs": [],
   "source": [
    "df['Elec_baseload'] = 8.5"
   ]
  },
  {
   "cell_type": "code",
   "execution_count": 140,
   "metadata": {
    "collapsed": false
   },
   "outputs": [],
   "source": [
    "df['Elec_weekday'] = 0.5 * (1-np.sign(df['Weekday']-4.1)) * 2.2 * (-np.cos((2*np.pi)/24 * df['Row number']) + 1)"
   ]
  },
  {
   "cell_type": "code",
   "execution_count": 141,
   "metadata": {
    "collapsed": true
   },
   "outputs": [],
   "source": [
    "df['Elec_noise'] = np.random.normal(loc=0.0, scale=0.6, size=(8760 ,1))"
   ]
  },
  {
   "cell_type": "code",
   "execution_count": 142,
   "metadata": {
    "collapsed": true
   },
   "outputs": [],
   "source": [
    "df['Elec_total'] = df['Elec_baseload'] + df['Elec_weekday'] + df['Elec_noise']"
   ]
  },
  {
   "cell_type": "code",
   "execution_count": 143,
   "metadata": {
    "collapsed": false
   },
   "outputs": [
    {
     "data": {
      "text/html": [
       "<div>\n",
       "<table border=\"1\" class=\"dataframe\">\n",
       "  <thead>\n",
       "    <tr style=\"text-align: right;\">\n",
       "      <th></th>\n",
       "      <th>Weekday</th>\n",
       "      <th>Row number</th>\n",
       "      <th>Elec_baseload</th>\n",
       "      <th>Elec_weekday</th>\n",
       "      <th>Elec_noise</th>\n",
       "      <th>Elec_total</th>\n",
       "    </tr>\n",
       "  </thead>\n",
       "  <tbody>\n",
       "    <tr>\n",
       "      <th>2016-02-12 12:00:00</th>\n",
       "      <td>4</td>\n",
       "      <td>1020.0</td>\n",
       "      <td>8.5</td>\n",
       "      <td>4.400000</td>\n",
       "      <td>0.843572</td>\n",
       "      <td>13.743572</td>\n",
       "    </tr>\n",
       "    <tr>\n",
       "      <th>2016-02-12 13:00:00</th>\n",
       "      <td>4</td>\n",
       "      <td>1021.0</td>\n",
       "      <td>8.5</td>\n",
       "      <td>4.325037</td>\n",
       "      <td>1.203239</td>\n",
       "      <td>14.028275</td>\n",
       "    </tr>\n",
       "    <tr>\n",
       "      <th>2016-02-12 14:00:00</th>\n",
       "      <td>4</td>\n",
       "      <td>1022.0</td>\n",
       "      <td>8.5</td>\n",
       "      <td>4.105256</td>\n",
       "      <td>0.271327</td>\n",
       "      <td>12.876583</td>\n",
       "    </tr>\n",
       "    <tr>\n",
       "      <th>2016-02-12 15:00:00</th>\n",
       "      <td>4</td>\n",
       "      <td>1023.0</td>\n",
       "      <td>8.5</td>\n",
       "      <td>3.755635</td>\n",
       "      <td>0.516415</td>\n",
       "      <td>12.772050</td>\n",
       "    </tr>\n",
       "    <tr>\n",
       "      <th>2016-02-12 16:00:00</th>\n",
       "      <td>4</td>\n",
       "      <td>1024.0</td>\n",
       "      <td>8.5</td>\n",
       "      <td>3.300000</td>\n",
       "      <td>-0.517043</td>\n",
       "      <td>11.282957</td>\n",
       "    </tr>\n",
       "    <tr>\n",
       "      <th>2016-02-12 17:00:00</th>\n",
       "      <td>4</td>\n",
       "      <td>1025.0</td>\n",
       "      <td>8.5</td>\n",
       "      <td>2.769402</td>\n",
       "      <td>-0.112095</td>\n",
       "      <td>11.157307</td>\n",
       "    </tr>\n",
       "    <tr>\n",
       "      <th>2016-02-12 18:00:00</th>\n",
       "      <td>4</td>\n",
       "      <td>1026.0</td>\n",
       "      <td>8.5</td>\n",
       "      <td>2.200000</td>\n",
       "      <td>0.042378</td>\n",
       "      <td>10.742378</td>\n",
       "    </tr>\n",
       "    <tr>\n",
       "      <th>2016-02-12 19:00:00</th>\n",
       "      <td>4</td>\n",
       "      <td>1027.0</td>\n",
       "      <td>8.5</td>\n",
       "      <td>1.630598</td>\n",
       "      <td>-0.545787</td>\n",
       "      <td>9.584811</td>\n",
       "    </tr>\n",
       "    <tr>\n",
       "      <th>2016-02-12 20:00:00</th>\n",
       "      <td>4</td>\n",
       "      <td>1028.0</td>\n",
       "      <td>8.5</td>\n",
       "      <td>1.100000</td>\n",
       "      <td>0.914890</td>\n",
       "      <td>10.514890</td>\n",
       "    </tr>\n",
       "    <tr>\n",
       "      <th>2016-02-12 21:00:00</th>\n",
       "      <td>4</td>\n",
       "      <td>1029.0</td>\n",
       "      <td>8.5</td>\n",
       "      <td>0.644365</td>\n",
       "      <td>-0.352996</td>\n",
       "      <td>8.791369</td>\n",
       "    </tr>\n",
       "    <tr>\n",
       "      <th>2016-02-12 22:00:00</th>\n",
       "      <td>4</td>\n",
       "      <td>1030.0</td>\n",
       "      <td>8.5</td>\n",
       "      <td>0.294744</td>\n",
       "      <td>-0.204096</td>\n",
       "      <td>8.590648</td>\n",
       "    </tr>\n",
       "    <tr>\n",
       "      <th>2016-02-12 23:00:00</th>\n",
       "      <td>4</td>\n",
       "      <td>1031.0</td>\n",
       "      <td>8.5</td>\n",
       "      <td>0.074963</td>\n",
       "      <td>0.084487</td>\n",
       "      <td>8.659450</td>\n",
       "    </tr>\n",
       "    <tr>\n",
       "      <th>2016-02-13 00:00:00</th>\n",
       "      <td>5</td>\n",
       "      <td>1032.0</td>\n",
       "      <td>8.5</td>\n",
       "      <td>0.000000</td>\n",
       "      <td>0.238082</td>\n",
       "      <td>8.738082</td>\n",
       "    </tr>\n",
       "    <tr>\n",
       "      <th>2016-02-13 01:00:00</th>\n",
       "      <td>5</td>\n",
       "      <td>1033.0</td>\n",
       "      <td>8.5</td>\n",
       "      <td>0.000000</td>\n",
       "      <td>0.042447</td>\n",
       "      <td>8.542447</td>\n",
       "    </tr>\n",
       "    <tr>\n",
       "      <th>2016-02-13 02:00:00</th>\n",
       "      <td>5</td>\n",
       "      <td>1034.0</td>\n",
       "      <td>8.5</td>\n",
       "      <td>0.000000</td>\n",
       "      <td>-0.228028</td>\n",
       "      <td>8.271972</td>\n",
       "    </tr>\n",
       "    <tr>\n",
       "      <th>2016-02-13 03:00:00</th>\n",
       "      <td>5</td>\n",
       "      <td>1035.0</td>\n",
       "      <td>8.5</td>\n",
       "      <td>0.000000</td>\n",
       "      <td>-0.431356</td>\n",
       "      <td>8.068644</td>\n",
       "    </tr>\n",
       "    <tr>\n",
       "      <th>2016-02-13 04:00:00</th>\n",
       "      <td>5</td>\n",
       "      <td>1036.0</td>\n",
       "      <td>8.5</td>\n",
       "      <td>0.000000</td>\n",
       "      <td>-0.780026</td>\n",
       "      <td>7.719974</td>\n",
       "    </tr>\n",
       "    <tr>\n",
       "      <th>2016-02-13 05:00:00</th>\n",
       "      <td>5</td>\n",
       "      <td>1037.0</td>\n",
       "      <td>8.5</td>\n",
       "      <td>0.000000</td>\n",
       "      <td>-0.854925</td>\n",
       "      <td>7.645075</td>\n",
       "    </tr>\n",
       "    <tr>\n",
       "      <th>2016-02-13 06:00:00</th>\n",
       "      <td>5</td>\n",
       "      <td>1038.0</td>\n",
       "      <td>8.5</td>\n",
       "      <td>0.000000</td>\n",
       "      <td>0.708899</td>\n",
       "      <td>9.208899</td>\n",
       "    </tr>\n",
       "    <tr>\n",
       "      <th>2016-02-13 07:00:00</th>\n",
       "      <td>5</td>\n",
       "      <td>1039.0</td>\n",
       "      <td>8.5</td>\n",
       "      <td>0.000000</td>\n",
       "      <td>0.086071</td>\n",
       "      <td>8.586071</td>\n",
       "    </tr>\n",
       "  </tbody>\n",
       "</table>\n",
       "</div>"
      ],
      "text/plain": [
       "                     Weekday  Row number  Elec_baseload  Elec_weekday  \\\n",
       "2016-02-12 12:00:00        4      1020.0            8.5      4.400000   \n",
       "2016-02-12 13:00:00        4      1021.0            8.5      4.325037   \n",
       "2016-02-12 14:00:00        4      1022.0            8.5      4.105256   \n",
       "2016-02-12 15:00:00        4      1023.0            8.5      3.755635   \n",
       "2016-02-12 16:00:00        4      1024.0            8.5      3.300000   \n",
       "2016-02-12 17:00:00        4      1025.0            8.5      2.769402   \n",
       "2016-02-12 18:00:00        4      1026.0            8.5      2.200000   \n",
       "2016-02-12 19:00:00        4      1027.0            8.5      1.630598   \n",
       "2016-02-12 20:00:00        4      1028.0            8.5      1.100000   \n",
       "2016-02-12 21:00:00        4      1029.0            8.5      0.644365   \n",
       "2016-02-12 22:00:00        4      1030.0            8.5      0.294744   \n",
       "2016-02-12 23:00:00        4      1031.0            8.5      0.074963   \n",
       "2016-02-13 00:00:00        5      1032.0            8.5      0.000000   \n",
       "2016-02-13 01:00:00        5      1033.0            8.5      0.000000   \n",
       "2016-02-13 02:00:00        5      1034.0            8.5      0.000000   \n",
       "2016-02-13 03:00:00        5      1035.0            8.5      0.000000   \n",
       "2016-02-13 04:00:00        5      1036.0            8.5      0.000000   \n",
       "2016-02-13 05:00:00        5      1037.0            8.5      0.000000   \n",
       "2016-02-13 06:00:00        5      1038.0            8.5      0.000000   \n",
       "2016-02-13 07:00:00        5      1039.0            8.5      0.000000   \n",
       "\n",
       "                     Elec_noise  Elec_total  \n",
       "2016-02-12 12:00:00    0.843572   13.743572  \n",
       "2016-02-12 13:00:00    1.203239   14.028275  \n",
       "2016-02-12 14:00:00    0.271327   12.876583  \n",
       "2016-02-12 15:00:00    0.516415   12.772050  \n",
       "2016-02-12 16:00:00   -0.517043   11.282957  \n",
       "2016-02-12 17:00:00   -0.112095   11.157307  \n",
       "2016-02-12 18:00:00    0.042378   10.742378  \n",
       "2016-02-12 19:00:00   -0.545787    9.584811  \n",
       "2016-02-12 20:00:00    0.914890   10.514890  \n",
       "2016-02-12 21:00:00   -0.352996    8.791369  \n",
       "2016-02-12 22:00:00   -0.204096    8.590648  \n",
       "2016-02-12 23:00:00    0.084487    8.659450  \n",
       "2016-02-13 00:00:00    0.238082    8.738082  \n",
       "2016-02-13 01:00:00    0.042447    8.542447  \n",
       "2016-02-13 02:00:00   -0.228028    8.271972  \n",
       "2016-02-13 03:00:00   -0.431356    8.068644  \n",
       "2016-02-13 04:00:00   -0.780026    7.719974  \n",
       "2016-02-13 05:00:00   -0.854925    7.645075  \n",
       "2016-02-13 06:00:00    0.708899    9.208899  \n",
       "2016-02-13 07:00:00    0.086071    8.586071  "
      ]
     },
     "execution_count": 143,
     "metadata": {},
     "output_type": "execute_result"
    }
   ],
   "source": [
    "df[1020:1040]"
   ]
  },
  {
   "cell_type": "markdown",
   "metadata": {},
   "source": [
    "### Data export\n",
    "As a last step the generic demand time series are exported into a file named \"GenericDemand.xlsx\" in the current folder."
   ]
  },
  {
   "cell_type": "code",
   "execution_count": 144,
   "metadata": {
    "collapsed": false
   },
   "outputs": [],
   "source": [
    "with pd.ExcelWriter('GenericDemand.xlsx') as xls:\n",
    "    df.to_excel(xls)"
   ]
  },
  {
   "cell_type": "code",
   "execution_count": null,
   "metadata": {
    "collapsed": true
   },
   "outputs": [],
   "source": []
  }
 ],
 "metadata": {
  "kernelspec": {
   "display_name": "Python 3",
   "language": "python",
   "name": "python3"
  },
  "language_info": {
   "codemirror_mode": {
    "name": "ipython",
    "version": 3
   },
   "file_extension": ".py",
   "mimetype": "text/x-python",
   "name": "python",
   "nbconvert_exporter": "python",
   "pygments_lexer": "ipython3",
   "version": "3.5.1"
  }
 },
 "nbformat": 4,
 "nbformat_minor": 0
}
